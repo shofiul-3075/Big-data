{
  "nbformat": 4,
  "nbformat_minor": 0,
  "metadata": {
    "colab": {
      "provenance": []
    },
    "kernelspec": {
      "name": "python3",
      "display_name": "Python 3"
    },
    "language_info": {
      "name": "python"
    }
  },
  "cells": [
    {
      "cell_type": "markdown",
      "source": [
        "***NumPy***"
      ],
      "metadata": {
        "id": "UOSz3uKOJdg0"
      }
    },
    {
      "cell_type": "markdown",
      "source": [
        "**Create a NumPy array**\n",
        "\n",
        "\n",
        "\n"
      ],
      "metadata": {
        "id": "4ok6S-voLq_1"
      }
    },
    {
      "cell_type": "code",
      "execution_count": null,
      "metadata": {
        "colab": {
          "base_uri": "https://localhost:8080/"
        },
        "id": "S0JHTrTnLea-",
        "outputId": "8c6e7579-8260-4807-b14f-a871355cda1a"
      },
      "outputs": [
        {
          "output_type": "stream",
          "name": "stdout",
          "text": [
            "[1 2 3 4 5]\n",
            "<class 'numpy.ndarray'>\n"
          ]
        }
      ],
      "source": [
        "import numpy as np\n",
        "arr = np.array([1, 2, 3, 4, 5])\n",
        "print(arr)\n",
        "print(type(arr))"
      ]
    },
    {
      "cell_type": "markdown",
      "source": [
        "***NumPy Creating Arrays***\n",
        "\n"
      ],
      "metadata": {
        "id": "7XCJRaCLLnJb"
      }
    },
    {
      "cell_type": "markdown",
      "source": [
        "Dimensions in Arrays"
      ],
      "metadata": {
        "id": "yvfJDNA6NrKp"
      }
    },
    {
      "cell_type": "markdown",
      "source": [
        "0-D Arrays"
      ],
      "metadata": {
        "id": "zV-1h_l7NuCg"
      }
    },
    {
      "cell_type": "code",
      "source": [
        "import numpy as np\n",
        "\n",
        "arr = np.array(42)\n",
        "\n",
        "print(arr)"
      ],
      "metadata": {
        "colab": {
          "base_uri": "https://localhost:8080/"
        },
        "id": "8GD0wpyhNyms",
        "outputId": "64bc02f3-07be-4e39-afac-901f9f6c4f9d"
      },
      "execution_count": null,
      "outputs": [
        {
          "output_type": "stream",
          "name": "stdout",
          "text": [
            "42\n"
          ]
        }
      ]
    },
    {
      "cell_type": "markdown",
      "source": [
        "1-D Arrays"
      ],
      "metadata": {
        "id": "aaRBlFghN6XH"
      }
    },
    {
      "cell_type": "code",
      "source": [
        "import numpy as np\n",
        "\n",
        "arr = np.array([1, 2, 3, 4, 5])\n",
        "\n",
        "print(arr)"
      ],
      "metadata": {
        "colab": {
          "base_uri": "https://localhost:8080/"
        },
        "id": "OIzX-dawOCJQ",
        "outputId": "a38baa73-4751-4632-9239-a36a1f1689b8"
      },
      "execution_count": null,
      "outputs": [
        {
          "output_type": "stream",
          "name": "stdout",
          "text": [
            "[1 2 3 4 5]\n"
          ]
        }
      ]
    },
    {
      "cell_type": "markdown",
      "source": [
        "2-D Arrays"
      ],
      "metadata": {
        "id": "RJ7ocgWuOWau"
      }
    },
    {
      "cell_type": "code",
      "source": [
        "import numpy as np\n",
        "\n",
        "arr = np.array([[1, 2, 3], [4, 5, 6]])\n",
        "\n",
        "print(arr)"
      ],
      "metadata": {
        "colab": {
          "base_uri": "https://localhost:8080/"
        },
        "id": "Dj-PLpfkOZWf",
        "outputId": "97a553a8-0ee1-4f74-9d13-a2005b57dde3"
      },
      "execution_count": null,
      "outputs": [
        {
          "output_type": "stream",
          "name": "stdout",
          "text": [
            "[[1 2 3]\n",
            " [4 5 6]]\n"
          ]
        }
      ]
    },
    {
      "cell_type": "markdown",
      "source": [
        "3-D arrays"
      ],
      "metadata": {
        "id": "SXM8XL-GOljg"
      }
    },
    {
      "cell_type": "code",
      "source": [
        "import numpy as np\n",
        "\n",
        "arr = np.array([[[1, 2, 3], [4, 5, 6]], [[1, 2, 3], [4, 5, 6]]])\n",
        "\n",
        "print(arr)"
      ],
      "metadata": {
        "colab": {
          "base_uri": "https://localhost:8080/"
        },
        "id": "sv3-9EJGOnGG",
        "outputId": "5addbe3c-21c8-4c8a-8391-9a4e47e8807a"
      },
      "execution_count": null,
      "outputs": [
        {
          "output_type": "stream",
          "name": "stdout",
          "text": [
            "[[[1 2 3]\n",
            "  [4 5 6]]\n",
            "\n",
            " [[1 2 3]\n",
            "  [4 5 6]]]\n"
          ]
        }
      ]
    },
    {
      "cell_type": "markdown",
      "source": [
        "how many dimensions the arrays have"
      ],
      "metadata": {
        "id": "GFc70W_UO62B"
      }
    },
    {
      "cell_type": "code",
      "source": [
        "import numpy as np\n",
        "\n",
        "a = np.array(42)\n",
        "b = np.array([1, 2, 3, 4, 5])\n",
        "c = np.array([[1, 2, 3], [4, 5, 6]])\n",
        "d = np.array([[[1, 2, 3], [4, 5, 6]], [[1, 2, 3], [4, 5, 6]]])\n",
        "\n",
        "print(a.ndim)\n",
        "print(b.ndim)\n",
        "print(c.ndim)\n",
        "print(d.ndim)"
      ],
      "metadata": {
        "colab": {
          "base_uri": "https://localhost:8080/"
        },
        "id": "1BQDlvKVPCye",
        "outputId": "c14e34f2-3090-4bc0-f79b-63cd87efdd69"
      },
      "execution_count": null,
      "outputs": [
        {
          "output_type": "stream",
          "name": "stdout",
          "text": [
            "0\n",
            "1\n",
            "2\n",
            "3\n"
          ]
        }
      ]
    },
    {
      "cell_type": "markdown",
      "source": [
        "**Higher Dimensional Arrays**"
      ],
      "metadata": {
        "id": "76EFe3HdSHHh"
      }
    },
    {
      "cell_type": "markdown",
      "source": [
        "Create an array with 5 dimensions and verify that it has 5 dimensions"
      ],
      "metadata": {
        "id": "XEAfE_8GPJEL"
      }
    },
    {
      "cell_type": "code",
      "source": [
        "import numpy as np\n",
        "\n",
        "arr = np.array([1, 2, 3, 4], ndmin=5)\n",
        "\n",
        "print(arr)\n",
        "print('number of dimensions :', arr.ndim)"
      ],
      "metadata": {
        "colab": {
          "base_uri": "https://localhost:8080/"
        },
        "id": "eaat0cq-RHYa",
        "outputId": "f1cf8900-2737-4912-e447-9d6548d5b22c"
      },
      "execution_count": null,
      "outputs": [
        {
          "output_type": "stream",
          "name": "stdout",
          "text": [
            "[[[[[1 2 3 4]]]]]\n",
            "number of dimensions : 5\n"
          ]
        }
      ]
    },
    {
      "cell_type": "markdown",
      "source": [
        "***NumPy Array Indexing***\n",
        "\n",
        "\n",
        "\n"
      ],
      "metadata": {
        "id": "twZzow20UHds"
      }
    },
    {
      "cell_type": "markdown",
      "source": [
        "the first element from the following array:"
      ],
      "metadata": {
        "id": "YODnZijxUvD4"
      }
    },
    {
      "cell_type": "code",
      "source": [
        "import numpy as np\n",
        "\n",
        "arr = np.array([1, 2, 3, 4])\n",
        "\n",
        "print(arr[0])"
      ],
      "metadata": {
        "colab": {
          "base_uri": "https://localhost:8080/"
        },
        "id": "TDD43ufbU_u7",
        "outputId": "95d62160-e278-41e4-dc18-cec794921623"
      },
      "execution_count": null,
      "outputs": [
        {
          "output_type": "stream",
          "name": "stdout",
          "text": [
            "1\n"
          ]
        }
      ]
    },
    {
      "cell_type": "markdown",
      "source": [
        "the second element from the following array"
      ],
      "metadata": {
        "id": "WBzAbCxNVHAv"
      }
    },
    {
      "cell_type": "code",
      "source": [
        "import numpy as np\n",
        "\n",
        "arr = np.array([1, 2, 3, 4])\n",
        "\n",
        "print(arr[1])"
      ],
      "metadata": {
        "colab": {
          "base_uri": "https://localhost:8080/"
        },
        "id": "adTvZCzjVLJp",
        "outputId": "05982d6f-1858-4d37-a347-6d1fdfaa1ac1"
      },
      "execution_count": null,
      "outputs": [
        {
          "output_type": "stream",
          "name": "stdout",
          "text": [
            "2\n"
          ]
        }
      ]
    },
    {
      "cell_type": "markdown",
      "source": [
        "third and fourth elements from the following array"
      ],
      "metadata": {
        "id": "4NcYgg7TVvMq"
      }
    },
    {
      "cell_type": "code",
      "source": [
        "import numpy as np\n",
        "\n",
        "arr = np.array([1, 2, 3, 4])\n",
        "\n",
        "print(arr[2], arr[3])"
      ],
      "metadata": {
        "colab": {
          "base_uri": "https://localhost:8080/"
        },
        "id": "Y3jG1fraVpp4",
        "outputId": "09274da5-679c-45ff-dc06-08179978bfeb"
      },
      "execution_count": null,
      "outputs": [
        {
          "output_type": "stream",
          "name": "stdout",
          "text": [
            "3 4\n"
          ]
        }
      ]
    },
    {
      "cell_type": "markdown",
      "source": [
        "third and fourth elements from the following array and add them"
      ],
      "metadata": {
        "id": "p7BRz8seVSyw"
      }
    },
    {
      "cell_type": "code",
      "source": [
        "import numpy as np\n",
        "\n",
        "arr = np.array([1, 2, 3, 4])\n",
        "\n",
        "print(arr[2] + arr[3])"
      ],
      "metadata": {
        "colab": {
          "base_uri": "https://localhost:8080/"
        },
        "id": "OsB9Fh8dVVfU",
        "outputId": "e40cccf7-c202-4423-b723-9a4806a840ef"
      },
      "execution_count": null,
      "outputs": [
        {
          "output_type": "stream",
          "name": "stdout",
          "text": [
            "7\n"
          ]
        }
      ]
    },
    {
      "cell_type": "markdown",
      "source": [
        "**Access 2-D Arrays**"
      ],
      "metadata": {
        "id": "15X2VId6V96S"
      }
    },
    {
      "cell_type": "markdown",
      "source": [
        "Access the element on the first row, second column:"
      ],
      "metadata": {
        "id": "HeLWG_AoWBOM"
      }
    },
    {
      "cell_type": "code",
      "source": [
        "import numpy as np\n",
        "\n",
        "arr = np.array([[1,2,3,4,5], [6,7,8,9,10]])\n",
        "\n",
        "print('2nd element on 1st row: ', arr[0, 1])"
      ],
      "metadata": {
        "colab": {
          "base_uri": "https://localhost:8080/"
        },
        "id": "ptzWFIl5WIjt",
        "outputId": "894ba1b9-6237-40d8-dfbf-a02513eaa297"
      },
      "execution_count": null,
      "outputs": [
        {
          "output_type": "stream",
          "name": "stdout",
          "text": [
            "2nd element on 1st row:  2\n"
          ]
        }
      ]
    },
    {
      "cell_type": "markdown",
      "source": [
        "Access the element on the 2nd row, 5th column:"
      ],
      "metadata": {
        "id": "9uE_3LyQWGsa"
      }
    },
    {
      "cell_type": "code",
      "source": [
        "import numpy as np\n",
        "\n",
        "arr = np.array([[1,2,3,4,5], [6,7,8,9,10]])\n",
        "\n",
        "print('5th element on 2nd row: ', arr[1, 4])"
      ],
      "metadata": {
        "colab": {
          "base_uri": "https://localhost:8080/"
        },
        "id": "1YyNLAe_Wud5",
        "outputId": "9ae56eff-4dfb-4623-a503-743d1dcbd0d3"
      },
      "execution_count": null,
      "outputs": [
        {
          "output_type": "stream",
          "name": "stdout",
          "text": [
            "5th element on 2nd row:  10\n"
          ]
        }
      ]
    },
    {
      "cell_type": "markdown",
      "source": [
        "**Access 3-D Arrays**"
      ],
      "metadata": {
        "id": "1ZGy14uELQGw"
      }
    },
    {
      "cell_type": "markdown",
      "source": [
        "the third element of the second array of the first array"
      ],
      "metadata": {
        "id": "dMSdMQ-1DOWW"
      }
    },
    {
      "cell_type": "code",
      "source": [
        "import numpy as np\n",
        "\n",
        "arr = np.array([[[1, 2, 3], [4, 5, 6]], [[7, 8, 9], [10, 11, 12]]])\n",
        "\n",
        "print(arr[0, 1, 2])"
      ],
      "metadata": {
        "colab": {
          "base_uri": "https://localhost:8080/"
        },
        "id": "L7bEAGchDriT",
        "outputId": "dd6f5557-ac92-4d9d-a24c-d309345b6358"
      },
      "execution_count": null,
      "outputs": [
        {
          "output_type": "stream",
          "name": "stdout",
          "text": [
            "6\n"
          ]
        }
      ]
    },
    {
      "cell_type": "markdown",
      "source": [
        "Print the last element from the 2nd dim"
      ],
      "metadata": {
        "id": "dUsE0WhQIWjV"
      }
    },
    {
      "cell_type": "code",
      "source": [
        "import numpy as np\n",
        "\n",
        "arr = np.array([[1,2,3,4,5], [6,7,8,9,10]])\n",
        "\n",
        "print('Last element from 2nd dim: ', arr[1, -1])"
      ],
      "metadata": {
        "colab": {
          "base_uri": "https://localhost:8080/"
        },
        "id": "HvggNkGcIg6N",
        "outputId": "8f050823-61c0-45f7-f972-3111b38a576d"
      },
      "execution_count": null,
      "outputs": [
        {
          "output_type": "stream",
          "name": "stdout",
          "text": [
            "Last element from 2nd dim:  10\n"
          ]
        }
      ]
    },
    {
      "cell_type": "markdown",
      "source": [
        "***NumPy Array Slicing***"
      ],
      "metadata": {
        "id": "CX3ZNKIDIvS-"
      }
    },
    {
      "cell_type": "markdown",
      "source": [
        "Slice elements from index 1 to index 5 from the following array:"
      ],
      "metadata": {
        "id": "iJFsxGGUMYEM"
      }
    },
    {
      "cell_type": "code",
      "source": [
        "import numpy as np\n",
        "\n",
        "arr = np.array([1, 2, 3, 4, 5, 6, 7])\n",
        "\n",
        "print(arr[1:5])"
      ],
      "metadata": {
        "colab": {
          "base_uri": "https://localhost:8080/"
        },
        "id": "SBar-pwGMZVW",
        "outputId": "8b8dc9d1-e5a2-4ba8-a729-48361ed669aa"
      },
      "execution_count": null,
      "outputs": [
        {
          "output_type": "stream",
          "name": "stdout",
          "text": [
            "[2 3 4 5]\n"
          ]
        }
      ]
    },
    {
      "cell_type": "markdown",
      "source": [
        "Slice elements from index 4 to the end of the array:"
      ],
      "metadata": {
        "id": "hmNN2sTNNRKt"
      }
    },
    {
      "cell_type": "code",
      "source": [
        "import numpy as np\n",
        "\n",
        "arr = np.array([1, 2, 3, 4, 5, 6, 7])\n",
        "\n",
        "print(arr[4:])"
      ],
      "metadata": {
        "colab": {
          "base_uri": "https://localhost:8080/"
        },
        "id": "n89XUz0vNSt9",
        "outputId": "2ac2949c-0d1e-474d-ce48-c1e42834c46b"
      },
      "execution_count": null,
      "outputs": [
        {
          "output_type": "stream",
          "name": "stdout",
          "text": [
            "[5 6 7]\n"
          ]
        }
      ]
    },
    {
      "cell_type": "markdown",
      "source": [
        "Slice elements from the beginning to index 4 (not included):"
      ],
      "metadata": {
        "id": "nLhj4y1FNe6W"
      }
    },
    {
      "cell_type": "code",
      "source": [
        "import numpy as np\n",
        "\n",
        "arr = np.array([1, 2, 3, 4, 5, 6, 7])\n",
        "\n",
        "print(arr[:4])"
      ],
      "metadata": {
        "colab": {
          "base_uri": "https://localhost:8080/"
        },
        "id": "26U2seMoNhKM",
        "outputId": "76b799f9-f93d-4dd9-a033-ba7801b56b7b"
      },
      "execution_count": null,
      "outputs": [
        {
          "output_type": "stream",
          "name": "stdout",
          "text": [
            "[1 2 3 4]\n"
          ]
        }
      ]
    },
    {
      "cell_type": "markdown",
      "source": [
        "Slice from the index 3 from the end to index 1 from the end:"
      ],
      "metadata": {
        "id": "CE9LS5SgNtqn"
      }
    },
    {
      "cell_type": "code",
      "source": [
        "import numpy as np\n",
        "\n",
        "arr = np.array([1, 2, 3, 4, 5, 6, 7])\n",
        "\n",
        "print(arr[-3:-1])"
      ],
      "metadata": {
        "colab": {
          "base_uri": "https://localhost:8080/"
        },
        "id": "quTL7cO9Nu73",
        "outputId": "60ccb711-64d7-4f5a-80a8-509a9088a170"
      },
      "execution_count": null,
      "outputs": [
        {
          "output_type": "stream",
          "name": "stdout",
          "text": [
            "[5 6]\n"
          ]
        }
      ]
    },
    {
      "cell_type": "markdown",
      "source": [
        "Return every other element from index 1 to index 5:"
      ],
      "metadata": {
        "id": "Iggnl3hAOGgE"
      }
    },
    {
      "cell_type": "code",
      "source": [
        "import numpy as np\n",
        "\n",
        "arr = np.array([1, 2, 3, 4, 5, 6, 7])\n",
        "\n",
        "print(arr[1:5:2])"
      ],
      "metadata": {
        "colab": {
          "base_uri": "https://localhost:8080/"
        },
        "id": "0Z2W39CfOHbF",
        "outputId": "b0eff5be-56c8-4ec8-a22c-ae33207dd15f"
      },
      "execution_count": null,
      "outputs": [
        {
          "output_type": "stream",
          "name": "stdout",
          "text": [
            "[2 4]\n"
          ]
        }
      ]
    },
    {
      "cell_type": "markdown",
      "source": [
        "Return every other element from the entire array:"
      ],
      "metadata": {
        "id": "rNbnCoisP1K1"
      }
    },
    {
      "cell_type": "code",
      "source": [
        "import numpy as np\n",
        "\n",
        "arr = np.array([1, 2, 3, 4, 5, 6, 7])\n",
        "\n",
        "print(arr[::2])"
      ],
      "metadata": {
        "colab": {
          "base_uri": "https://localhost:8080/"
        },
        "id": "YAH5dzCBP2J2",
        "outputId": "9643ca13-0127-4e4a-e8d5-6e62bf9e7bbd"
      },
      "execution_count": null,
      "outputs": [
        {
          "output_type": "stream",
          "name": "stdout",
          "text": [
            "[1 3 5 7]\n"
          ]
        }
      ]
    },
    {
      "cell_type": "markdown",
      "source": [
        "From the second element, slice elements from index 1 to index 4 (not included):"
      ],
      "metadata": {
        "id": "VHGZ90ZhTYH0"
      }
    },
    {
      "cell_type": "code",
      "source": [
        "import numpy as np\n",
        "arr = np.array([[1, 2, 3, 4, 5], [6, 7, 8, 9, 10]])\n",
        "print(arr[1, 1:4])"
      ],
      "metadata": {
        "colab": {
          "base_uri": "https://localhost:8080/"
        },
        "id": "nDLVDRpcTZrc",
        "outputId": "3fd5e0d2-8fd7-4073-cb35-7bd1ba5a24fe"
      },
      "execution_count": null,
      "outputs": [
        {
          "output_type": "stream",
          "name": "stdout",
          "text": [
            "[7 8 9]\n"
          ]
        }
      ]
    },
    {
      "cell_type": "markdown",
      "source": [
        "From both elements, return index 2:"
      ],
      "metadata": {
        "id": "nym7lJZ6Tk0D"
      }
    },
    {
      "cell_type": "code",
      "source": [
        "import numpy as np\n",
        "arr = np.array([[1, 2, 3, 4, 5], [6, 7, 8, 9, 10]])\n",
        "print(arr[0:2, 2])"
      ],
      "metadata": {
        "colab": {
          "base_uri": "https://localhost:8080/"
        },
        "id": "25NkS4UjTl6k",
        "outputId": "cfdb1461-f478-41ab-e810-c3c232e3a0c2"
      },
      "execution_count": null,
      "outputs": [
        {
          "output_type": "stream",
          "name": "stdout",
          "text": [
            "[3 8]\n"
          ]
        }
      ]
    },
    {
      "cell_type": "markdown",
      "source": [
        "From both elements, slice index 1 to index 4 (not included), this will return a 2-D array:"
      ],
      "metadata": {
        "id": "2GcKd5UmTybc"
      }
    },
    {
      "cell_type": "code",
      "source": [
        "import numpy as np\n",
        "arr = np.array([[1, 2, 3, 4, 5], [6, 7, 8, 9, 10]])\n",
        "print(arr[0:2, 1:4])"
      ],
      "metadata": {
        "colab": {
          "base_uri": "https://localhost:8080/"
        },
        "id": "qBE3W1cNTzsT",
        "outputId": "7546f069-c6cb-44f2-d748-232a18e93589"
      },
      "execution_count": null,
      "outputs": [
        {
          "output_type": "stream",
          "name": "stdout",
          "text": [
            "[[2 3 4]\n",
            " [7 8 9]]\n"
          ]
        }
      ]
    },
    {
      "cell_type": "markdown",
      "source": [
        "***NumPy Data Types***"
      ],
      "metadata": {
        "id": "yhRfmN6mUAEe"
      }
    },
    {
      "cell_type": "markdown",
      "source": [
        "Get the data type of an array object:"
      ],
      "metadata": {
        "id": "eAoKLNQBUB_b"
      }
    },
    {
      "cell_type": "code",
      "source": [
        "import numpy as np\n",
        "arr = np.array([1, 2, 3, 4])\n",
        "print(arr.dtype)"
      ],
      "metadata": {
        "colab": {
          "base_uri": "https://localhost:8080/"
        },
        "id": "25QFzEOfUGIg",
        "outputId": "bff8d1c8-1368-45a0-aec7-4cd8ae03f254"
      },
      "execution_count": null,
      "outputs": [
        {
          "output_type": "stream",
          "name": "stdout",
          "text": [
            "int64\n"
          ]
        }
      ]
    },
    {
      "cell_type": "markdown",
      "source": [
        "Get the data type of an array containing strings:"
      ],
      "metadata": {
        "id": "qIlKtt12URzG"
      }
    },
    {
      "cell_type": "code",
      "source": [
        "import numpy as np\n",
        "arr = np.array(['apple', 'banana', 'cherry'])\n",
        "print(arr.dtype)"
      ],
      "metadata": {
        "colab": {
          "base_uri": "https://localhost:8080/"
        },
        "id": "JltX_joFUrtk",
        "outputId": "6725348a-18e3-42e0-e5df-b7c23a69b78a"
      },
      "execution_count": null,
      "outputs": [
        {
          "output_type": "stream",
          "name": "stdout",
          "text": [
            "<U6\n"
          ]
        }
      ]
    },
    {
      "cell_type": "markdown",
      "source": [
        "**Creating Arrays With a Defined Data Type**"
      ],
      "metadata": {
        "id": "YcmjwMlCU5eb"
      }
    },
    {
      "cell_type": "markdown",
      "source": [
        "Create an array with data type string:"
      ],
      "metadata": {
        "id": "IdOYvNBYU7j_"
      }
    },
    {
      "cell_type": "code",
      "source": [
        "import numpy as np\n",
        "arr = np.array([1, 2, 3, 4], dtype='S')\n",
        "print(arr)\n",
        "print(arr.dtype)"
      ],
      "metadata": {
        "colab": {
          "base_uri": "https://localhost:8080/"
        },
        "id": "8wbmGaUJVA0P",
        "outputId": "27e0b00c-c6df-4bf3-d635-b5a0b18b5958"
      },
      "execution_count": null,
      "outputs": [
        {
          "output_type": "stream",
          "name": "stdout",
          "text": [
            "[b'1' b'2' b'3' b'4']\n",
            "|S1\n"
          ]
        }
      ]
    },
    {
      "cell_type": "markdown",
      "source": [
        "Create an array with data type 4 bytes integer:"
      ],
      "metadata": {
        "id": "Pn1FITblVfOW"
      }
    },
    {
      "cell_type": "code",
      "source": [
        "import numpy as np\n",
        "arr = np.array([1, 2, 3, 4], dtype='i4')\n",
        "print(arr)\n",
        "print(arr.dtype)"
      ],
      "metadata": {
        "colab": {
          "base_uri": "https://localhost:8080/"
        },
        "id": "FDSGnZhBVgNr",
        "outputId": "3dcad540-4781-4a42-bc28-1598507500e3"
      },
      "execution_count": null,
      "outputs": [
        {
          "output_type": "stream",
          "name": "stdout",
          "text": [
            "[1 2 3 4]\n",
            "int32\n"
          ]
        }
      ]
    },
    {
      "cell_type": "markdown",
      "source": [
        "Change data type from float to integer by using 'i' as parameter value:"
      ],
      "metadata": {
        "id": "P2558rFfV_sD"
      }
    },
    {
      "cell_type": "code",
      "source": [
        "import numpy as np\n",
        "arr = np.array([1.1, 2.1, 3.1])\n",
        "newarr = arr.astype('i')\n",
        "print(newarr)\n",
        "print(newarr.dtype)"
      ],
      "metadata": {
        "colab": {
          "base_uri": "https://localhost:8080/"
        },
        "id": "XaQh8KYIWAm1",
        "outputId": "d02890e3-d41b-4161-e07f-3abdf7751ba8"
      },
      "execution_count": null,
      "outputs": [
        {
          "output_type": "stream",
          "name": "stdout",
          "text": [
            "[1 2 3]\n",
            "int32\n"
          ]
        }
      ]
    },
    {
      "cell_type": "markdown",
      "source": [
        "Change data type from float to integer by using int as parameter value:"
      ],
      "metadata": {
        "id": "-T62al-XWJbj"
      }
    },
    {
      "cell_type": "code",
      "source": [
        "import numpy as np\n",
        "arr = np.array([1.1, 2.1, 3.1])\n",
        "newarr = arr.astype(int)\n",
        "print(newarr)\n",
        "print(newarr.dtype)"
      ],
      "metadata": {
        "colab": {
          "base_uri": "https://localhost:8080/"
        },
        "id": "tKNVlNJtWKZF",
        "outputId": "e346ff6c-f37a-4ee6-c7ad-d26f4b6d4c6f"
      },
      "execution_count": null,
      "outputs": [
        {
          "output_type": "stream",
          "name": "stdout",
          "text": [
            "[1 2 3]\n",
            "int64\n"
          ]
        }
      ]
    },
    {
      "cell_type": "markdown",
      "source": [
        "Change data type from integer to boolean:"
      ],
      "metadata": {
        "id": "lYGHr1unWQtb"
      }
    },
    {
      "cell_type": "code",
      "source": [
        "import numpy as np\n",
        "arr = np.array([1, 0, 3])\n",
        "newarr = arr.astype(bool)\n",
        "print(newarr)\n",
        "print(newarr.dtype)"
      ],
      "metadata": {
        "colab": {
          "base_uri": "https://localhost:8080/"
        },
        "id": "LCMhH43EWRrz",
        "outputId": "702a8928-b46f-4c77-fb89-b1becd84ecac"
      },
      "execution_count": null,
      "outputs": [
        {
          "output_type": "stream",
          "name": "stdout",
          "text": [
            "[ True False  True]\n",
            "bool\n"
          ]
        }
      ]
    },
    {
      "cell_type": "markdown",
      "source": [
        "***NumPy Array Copy vs View***"
      ],
      "metadata": {
        "id": "RLKoy29TWY98"
      }
    },
    {
      "cell_type": "markdown",
      "source": [
        "**COPY:**"
      ],
      "metadata": {
        "id": "4Z9Y_SS3WaZ8"
      }
    },
    {
      "cell_type": "markdown",
      "source": [
        "Make a copy, change the original array, and display both arrays:"
      ],
      "metadata": {
        "id": "uAU7e0j1WjMG"
      }
    },
    {
      "cell_type": "code",
      "source": [
        "import numpy as np\n",
        "arr = np.array([1, 2, 3, 4, 5])\n",
        "x = arr.copy()\n",
        "arr[0] = 42\n",
        "print(arr)\n",
        "print(x)"
      ],
      "metadata": {
        "colab": {
          "base_uri": "https://localhost:8080/"
        },
        "id": "kc6r0mXWWm9O",
        "outputId": "9e7a0de2-caed-4d64-a2d2-45258dc3f754"
      },
      "execution_count": null,
      "outputs": [
        {
          "output_type": "stream",
          "name": "stdout",
          "text": [
            "[42  2  3  4  5]\n",
            "[1 2 3 4 5]\n"
          ]
        }
      ]
    },
    {
      "cell_type": "markdown",
      "source": [
        "**VIEW:**"
      ],
      "metadata": {
        "id": "keLx-fgJWzUU"
      }
    },
    {
      "cell_type": "markdown",
      "source": [
        "Make a view, change the original array, and display both arrays:"
      ],
      "metadata": {
        "id": "zuBOEj2CW8Fn"
      }
    },
    {
      "cell_type": "code",
      "source": [
        "import numpy as np\n",
        "arr = np.array([1, 2, 3, 4, 5])\n",
        "x = arr.view()\n",
        "arr[0] = 42\n",
        "print(arr)\n",
        "print(x)"
      ],
      "metadata": {
        "colab": {
          "base_uri": "https://localhost:8080/"
        },
        "id": "GT-ylkTQW34P",
        "outputId": "b4781320-a6bb-4b5d-b430-8930eafa261f"
      },
      "execution_count": null,
      "outputs": [
        {
          "output_type": "stream",
          "name": "stdout",
          "text": [
            "[42  2  3  4  5]\n",
            "[42  2  3  4  5]\n"
          ]
        }
      ]
    },
    {
      "cell_type": "markdown",
      "source": [
        "***NumPy Array Shape***"
      ],
      "metadata": {
        "id": "I1brF3fjkDUo"
      }
    },
    {
      "cell_type": "markdown",
      "source": [
        "Print the shape of a 2-D array:"
      ],
      "metadata": {
        "id": "tE3bZVzAkGay"
      }
    },
    {
      "cell_type": "code",
      "source": [
        "import numpy as np\n",
        "arr = np.array([[1, 2, 3, 4], [5, 6, 7, 8]])\n",
        "print(arr.shape)"
      ],
      "metadata": {
        "colab": {
          "base_uri": "https://localhost:8080/"
        },
        "id": "Gq0qYD9ukOn_",
        "outputId": "3904e381-9789-4318-de48-e9e11a5299cf"
      },
      "execution_count": null,
      "outputs": [
        {
          "output_type": "stream",
          "name": "stdout",
          "text": [
            "(2, 4)\n"
          ]
        }
      ]
    },
    {
      "cell_type": "markdown",
      "source": [
        "Create an array with 5 dimensions using ndmin using a vector with values 1,2,3,4 and verify that last dimension has value 4:"
      ],
      "metadata": {
        "id": "Gu90R8fSkzvS"
      }
    },
    {
      "cell_type": "code",
      "source": [
        "import numpy as np\n",
        "arr = np.array([1, 2, 3, 4], ndmin=5)\n",
        "print(arr)\n",
        "print('shape of array :', arr.shape)"
      ],
      "metadata": {
        "colab": {
          "base_uri": "https://localhost:8080/"
        },
        "id": "MnS1ziXYk0oy",
        "outputId": "0637c793-5e59-4e19-ec99-d7c893ee2cd9"
      },
      "execution_count": null,
      "outputs": [
        {
          "output_type": "stream",
          "name": "stdout",
          "text": [
            "[[[[[1 2 3 4]]]]]\n",
            "shape of array : (1, 1, 1, 1, 4)\n"
          ]
        }
      ]
    },
    {
      "cell_type": "markdown",
      "source": [
        "***NumPy Array Reshaping***"
      ],
      "metadata": {
        "id": "cMdj3B7uvrkb"
      }
    },
    {
      "cell_type": "markdown",
      "source": [
        "**Reshape From 1-D to 2-D**"
      ],
      "metadata": {
        "id": "FdUvLj78vs_R"
      }
    },
    {
      "cell_type": "markdown",
      "source": [
        "Convert the following 1-D array with 12 elements into a 2-D array.\n",
        "\n",
        "The outermost dimension will have 4 arrays, each with 3 elements:"
      ],
      "metadata": {
        "id": "r3mCoUR6v9RN"
      }
    },
    {
      "cell_type": "code",
      "source": [
        "import numpy as np\n",
        "arr = np.array([1, 2, 3, 4, 5, 6, 7, 8, 9, 10, 11, 12])\n",
        "newarr = arr.reshape(4, 3)\n",
        "print(newarr)"
      ],
      "metadata": {
        "colab": {
          "base_uri": "https://localhost:8080/"
        },
        "id": "mZ9_VPCXv-dQ",
        "outputId": "42bd8f05-b6cd-46d7-ab3a-3a274d8228f9"
      },
      "execution_count": null,
      "outputs": [
        {
          "output_type": "stream",
          "name": "stdout",
          "text": [
            "[[ 1  2  3]\n",
            " [ 4  5  6]\n",
            " [ 7  8  9]\n",
            " [10 11 12]]\n"
          ]
        }
      ]
    },
    {
      "cell_type": "markdown",
      "source": [
        "**Reshape From 1-D to 3-D**\n",
        "\n",
        "Convert the following 1-D array with 12 elements into a 3-D array.\n",
        "\n",
        "The outermost dimension will have 2 arrays that contains 3 arrays, each with 2 elements:"
      ],
      "metadata": {
        "id": "LLyJTlBKwOgU"
      }
    },
    {
      "cell_type": "code",
      "source": [
        "import numpy as np\n",
        "arr = np.array([1, 2, 3, 4, 5, 6, 7, 8, 9, 10, 11, 12])\n",
        "newarr = arr.reshape(2, 3, 2)\n",
        "print(newarr)"
      ],
      "metadata": {
        "colab": {
          "base_uri": "https://localhost:8080/"
        },
        "id": "XgrguW20wUTK",
        "outputId": "6731dc7c-7bd6-47a9-c88b-32f9d37593b8"
      },
      "execution_count": null,
      "outputs": [
        {
          "output_type": "stream",
          "name": "stdout",
          "text": [
            "[[[ 1  2]\n",
            "  [ 3  4]\n",
            "  [ 5  6]]\n",
            "\n",
            " [[ 7  8]\n",
            "  [ 9 10]\n",
            "  [11 12]]]\n"
          ]
        }
      ]
    },
    {
      "cell_type": "markdown",
      "source": [
        "**Unknown Dimension**\n",
        "\n",
        "Convert 1D array with 8 elements to 3D array with 2x2 elements:"
      ],
      "metadata": {
        "id": "CbSDCA1BwtEJ"
      }
    },
    {
      "cell_type": "code",
      "source": [
        "import numpy as np\n",
        "arr = np.array([1, 2, 3, 4, 5, 6, 7, 8])\n",
        "newarr = arr.reshape(2, 2, -1)\n",
        "print(newarr)"
      ],
      "metadata": {
        "colab": {
          "base_uri": "https://localhost:8080/"
        },
        "id": "2byYrLVjwz2h",
        "outputId": "272f2f0b-38b7-4b43-d71c-7aa9e4962fa7"
      },
      "execution_count": null,
      "outputs": [
        {
          "output_type": "stream",
          "name": "stdout",
          "text": [
            "[[[1 2]\n",
            "  [3 4]]\n",
            "\n",
            " [[5 6]\n",
            "  [7 8]]]\n"
          ]
        }
      ]
    },
    {
      "cell_type": "markdown",
      "source": [
        "**Flattening the arrays**\n",
        "\n",
        "Convert the array into a 1D array:"
      ],
      "metadata": {
        "id": "95HWzXmgxE8B"
      }
    },
    {
      "cell_type": "code",
      "source": [
        "import numpy as np\n",
        "arr = np.array([[1, 2, 3], [4, 5, 6]])\n",
        "newarr = arr.reshape(-1)\n",
        "print(newarr)"
      ],
      "metadata": {
        "colab": {
          "base_uri": "https://localhost:8080/"
        },
        "id": "t8eXea9FxK2K",
        "outputId": "39b4b229-292f-4a2b-d20f-a516450bfb1b"
      },
      "execution_count": null,
      "outputs": [
        {
          "output_type": "stream",
          "name": "stdout",
          "text": [
            "[1 2 3 4 5 6]\n"
          ]
        }
      ]
    },
    {
      "cell_type": "markdown",
      "source": [
        "***NumPy Array Iterating***\n",
        "\n",
        "\n",
        "\n",
        "\n",
        "Iterate on the elements of the following 1-D array:\n"
      ],
      "metadata": {
        "id": "5cNZ5DTdxVhJ"
      }
    },
    {
      "cell_type": "code",
      "source": [
        "import numpy as np\n",
        "arr = np.array([1, 2, 3])\n",
        "for x in arr:\n",
        "  print(x)"
      ],
      "metadata": {
        "colab": {
          "base_uri": "https://localhost:8080/"
        },
        "id": "IYfIjrcFxeAo",
        "outputId": "bb94604a-6a70-45d0-effd-ab4bc6b839cb"
      },
      "execution_count": null,
      "outputs": [
        {
          "output_type": "stream",
          "name": "stdout",
          "text": [
            "1\n",
            "2\n",
            "3\n"
          ]
        }
      ]
    },
    {
      "cell_type": "markdown",
      "source": [
        "**Iterating 2-D Arrays**\n",
        "\n",
        "Iterate on the elements of the following 2-D array:"
      ],
      "metadata": {
        "id": "buCRNCqvxtsz"
      }
    },
    {
      "cell_type": "code",
      "source": [
        "import numpy as np\n",
        "arr = np.array([[1, 2, 3], [4, 5, 6]])\n",
        "for x in arr:\n",
        "  print(x)"
      ],
      "metadata": {
        "colab": {
          "base_uri": "https://localhost:8080/"
        },
        "id": "J21F_NFzxyxZ",
        "outputId": "5179550a-e376-4c3a-aaa6-0cd15a11065e"
      },
      "execution_count": null,
      "outputs": [
        {
          "output_type": "stream",
          "name": "stdout",
          "text": [
            "[1 2 3]\n",
            "[4 5 6]\n"
          ]
        }
      ]
    },
    {
      "cell_type": "markdown",
      "source": [
        "**Iterating 3-D Arrays**\n",
        "\n",
        "Iterate on the elements of the following 3-D array:"
      ],
      "metadata": {
        "id": "vPeF8TZbyEpD"
      }
    },
    {
      "cell_type": "code",
      "source": [
        "import numpy as np\n",
        "arr = np.array([[[1, 2, 3], [4, 5, 6]], [[7, 8, 9], [10, 11, 12]]])\n",
        "for x in arr:\n",
        "  print(x)"
      ],
      "metadata": {
        "colab": {
          "base_uri": "https://localhost:8080/"
        },
        "id": "MIH7GdxNyLEz",
        "outputId": "efffb005-24fa-4299-d256-8fa6def686f8"
      },
      "execution_count": null,
      "outputs": [
        {
          "output_type": "stream",
          "name": "stdout",
          "text": [
            "[[1 2 3]\n",
            " [4 5 6]]\n",
            "[[ 7  8  9]\n",
            " [10 11 12]]\n"
          ]
        }
      ]
    },
    {
      "cell_type": "markdown",
      "source": [
        "Iterate down to the scalars:"
      ],
      "metadata": {
        "id": "L4EercVNyTgU"
      }
    },
    {
      "cell_type": "code",
      "source": [
        "import numpy as np\n",
        "arr = np.array([[[1, 2, 3], [4, 5, 6]], [[7, 8, 9], [10, 11, 12]]])\n",
        "for x in arr:\n",
        "  for y in x:\n",
        "    for z in y:\n",
        "      print(z)"
      ],
      "metadata": {
        "colab": {
          "base_uri": "https://localhost:8080/"
        },
        "id": "LgBDKgnQyUdp",
        "outputId": "b62c9dcc-1b73-4ac0-8c14-c73df2bd119f"
      },
      "execution_count": null,
      "outputs": [
        {
          "output_type": "stream",
          "name": "stdout",
          "text": [
            "1\n",
            "2\n",
            "3\n",
            "4\n",
            "5\n",
            "6\n",
            "7\n",
            "8\n",
            "9\n",
            "10\n",
            "11\n",
            "12\n"
          ]
        }
      ]
    },
    {
      "cell_type": "markdown",
      "source": [
        "Iterate through the following 3-D array:"
      ],
      "metadata": {
        "id": "Wc2xZqdMyccg"
      }
    },
    {
      "cell_type": "code",
      "source": [
        "import numpy as np\n",
        "arr = np.array([[[1, 2], [3, 4]], [[5, 6], [7, 8]]])\n",
        "for x in np.nditer(arr):\n",
        "  print(x)"
      ],
      "metadata": {
        "id": "5zY7mtN_ydQS",
        "outputId": "738a97fc-3929-445b-f28b-07bede895c82",
        "colab": {
          "base_uri": "https://localhost:8080/"
        }
      },
      "execution_count": null,
      "outputs": [
        {
          "output_type": "stream",
          "name": "stdout",
          "text": [
            "1\n",
            "2\n",
            "3\n",
            "4\n",
            "5\n",
            "6\n",
            "7\n",
            "8\n"
          ]
        }
      ]
    },
    {
      "cell_type": "markdown",
      "source": [
        "***NumPy Joining Array***"
      ],
      "metadata": {
        "id": "Q_6Gcgj_HFMq"
      }
    },
    {
      "cell_type": "markdown",
      "source": [
        "Join two arrays"
      ],
      "metadata": {
        "id": "jPI1gBjLHKQT"
      }
    },
    {
      "cell_type": "code",
      "source": [
        "import numpy as np\n",
        "arr1 = np.array([1, 2, 3])\n",
        "arr2 = np.array([4, 5, 6])\n",
        "arr = np.concatenate((arr1, arr2))\n",
        "print(arr)"
      ],
      "metadata": {
        "colab": {
          "base_uri": "https://localhost:8080/"
        },
        "id": "uzL9DbFYNWzn",
        "outputId": "2be9c175-0b90-4fd8-c2cd-3766eda7a7c6"
      },
      "execution_count": null,
      "outputs": [
        {
          "output_type": "stream",
          "name": "stdout",
          "text": [
            "[1 2 3 4 5 6]\n"
          ]
        }
      ]
    },
    {
      "cell_type": "markdown",
      "source": [
        "Join two 2-D arrays along rows (axis=1):"
      ],
      "metadata": {
        "id": "rYgUn09kNlFu"
      }
    },
    {
      "cell_type": "code",
      "source": [
        "import numpy as np\n",
        "arr1 = np.array([[1, 2], [3, 4]])\n",
        "arr2 = np.array([[5, 6], [7, 8]])\n",
        "arr = np.concatenate((arr1, arr2), axis=1)\n",
        "print(arr)"
      ],
      "metadata": {
        "colab": {
          "base_uri": "https://localhost:8080/"
        },
        "id": "7wOsjwzwNtpq",
        "outputId": "af365d50-a290-432a-b93c-5a7024b95e7d"
      },
      "execution_count": null,
      "outputs": [
        {
          "output_type": "stream",
          "name": "stdout",
          "text": [
            "[[1 2 5 6]\n",
            " [3 4 7 8]]\n"
          ]
        }
      ]
    },
    {
      "cell_type": "markdown",
      "source": [
        "Joining Arrays Using Stack Functions"
      ],
      "metadata": {
        "id": "8hsMwmD7OSD0"
      }
    },
    {
      "cell_type": "code",
      "source": [
        "import numpy as np\n",
        "arr1 = np.array([1, 2, 3])\n",
        "arr2 = np.array([4, 5, 6])\n",
        "arr = np.stack((arr1, arr2), axis=1)\n",
        "print(arr)"
      ],
      "metadata": {
        "colab": {
          "base_uri": "https://localhost:8080/"
        },
        "id": "ZQQQqPgbOT17",
        "outputId": "5d3a5349-1f27-4946-a025-6ab390af4e99"
      },
      "execution_count": null,
      "outputs": [
        {
          "output_type": "stream",
          "name": "stdout",
          "text": [
            "[[1 4]\n",
            " [2 5]\n",
            " [3 6]]\n"
          ]
        }
      ]
    },
    {
      "cell_type": "markdown",
      "source": [
        "***NumPy Splitting Array***"
      ],
      "metadata": {
        "id": "gw7UPSZCOhJO"
      }
    },
    {
      "cell_type": "markdown",
      "source": [
        "Split the array in 3 parts"
      ],
      "metadata": {
        "id": "Y79P45LSOrXf"
      }
    },
    {
      "cell_type": "code",
      "source": [
        "import numpy as np\n",
        "arr = np.array([1, 2, 3, 4, 5, 6])\n",
        "newarr = np.array_split(arr, 3)\n",
        "print(newarr)"
      ],
      "metadata": {
        "colab": {
          "base_uri": "https://localhost:8080/"
        },
        "id": "HmAx9KqvO21U",
        "outputId": "511ca45f-8699-4bb0-956c-64d6a26fe424"
      },
      "execution_count": null,
      "outputs": [
        {
          "output_type": "stream",
          "name": "stdout",
          "text": [
            "[array([1, 2]), array([3, 4]), array([5, 6])]\n"
          ]
        }
      ]
    },
    {
      "cell_type": "markdown",
      "source": [
        "Split the array in 4 parts:"
      ],
      "metadata": {
        "id": "VMPydcESO_oD"
      }
    },
    {
      "cell_type": "code",
      "source": [
        "import numpy as np\n",
        "arr = np.array([1, 2, 3, 4, 5, 6])\n",
        "newarr = np.array_split(arr, 4)\n",
        "print(newarr)"
      ],
      "metadata": {
        "colab": {
          "base_uri": "https://localhost:8080/"
        },
        "id": "4k_UxXfgPAy9",
        "outputId": "bce761bf-7bdb-4a33-bfe6-ebddf240f68c"
      },
      "execution_count": null,
      "outputs": [
        {
          "output_type": "stream",
          "name": "stdout",
          "text": [
            "[array([1, 2]), array([3, 4]), array([5]), array([6])]\n"
          ]
        }
      ]
    },
    {
      "cell_type": "markdown",
      "source": [
        "**Splitting 2-D Arrays**"
      ],
      "metadata": {
        "id": "kfOpP7eIPO2g"
      }
    },
    {
      "cell_type": "markdown",
      "source": [
        "Split the 2-D array into three 2-D arrays."
      ],
      "metadata": {
        "id": "SDTskij1PR2e"
      }
    },
    {
      "cell_type": "code",
      "source": [
        "import numpy as np\n",
        "arr = np.array([[1, 2], [3, 4], [5, 6], [7, 8], [9, 10], [11, 12]])\n",
        "newarr = np.array_split(arr, 3)\n",
        "print(newarr)"
      ],
      "metadata": {
        "colab": {
          "base_uri": "https://localhost:8080/"
        },
        "id": "FHrswrKHPW4p",
        "outputId": "8b5e8852-670a-40f4-bb81-828aab060ac5"
      },
      "execution_count": null,
      "outputs": [
        {
          "output_type": "stream",
          "name": "stdout",
          "text": [
            "[array([[1, 2],\n",
            "       [3, 4]]), array([[5, 6],\n",
            "       [7, 8]]), array([[ 9, 10],\n",
            "       [11, 12]])]\n"
          ]
        }
      ]
    },
    {
      "cell_type": "markdown",
      "source": [
        "Split the 2-D array into three 2-D arrays."
      ],
      "metadata": {
        "id": "jN97A75yPheZ"
      }
    },
    {
      "cell_type": "code",
      "source": [
        "import numpy as np\n",
        "arr = np.array([[1, 2, 3], [4, 5, 6], [7, 8, 9], [10, 11, 12], [13, 14, 15], [16, 17, 18]])\n",
        "newarr = np.array_split(arr, 3)\n",
        "print(newarr)"
      ],
      "metadata": {
        "colab": {
          "base_uri": "https://localhost:8080/"
        },
        "id": "aSoG6bMaPryY",
        "outputId": "f3ad1f6a-7f25-4f3e-abcc-f879051df50a"
      },
      "execution_count": null,
      "outputs": [
        {
          "output_type": "stream",
          "name": "stdout",
          "text": [
            "[array([[1, 2, 3],\n",
            "       [4, 5, 6]]), array([[ 7,  8,  9],\n",
            "       [10, 11, 12]]), array([[13, 14, 15],\n",
            "       [16, 17, 18]])]\n"
          ]
        }
      ]
    },
    {
      "cell_type": "markdown",
      "source": [
        "Split the 2-D array into three 2-D arrays along rows."
      ],
      "metadata": {
        "id": "UxuOAvhKP0nP"
      }
    },
    {
      "cell_type": "code",
      "source": [
        "import numpy as np\n",
        "arr = np.array([[1, 2, 3], [4, 5, 6], [7, 8, 9], [10, 11, 12], [13, 14, 15], [16, 17, 18]])\n",
        "newarr = np.array_split(arr, 3, axis=1)\n",
        "print(newarr)"
      ],
      "metadata": {
        "colab": {
          "base_uri": "https://localhost:8080/"
        },
        "id": "skzZr4KRP3UM",
        "outputId": "c84118cd-f722-4f33-afb7-bb93ff9a38e8"
      },
      "execution_count": null,
      "outputs": [
        {
          "output_type": "stream",
          "name": "stdout",
          "text": [
            "[array([[ 1],\n",
            "       [ 4],\n",
            "       [ 7],\n",
            "       [10],\n",
            "       [13],\n",
            "       [16]]), array([[ 2],\n",
            "       [ 5],\n",
            "       [ 8],\n",
            "       [11],\n",
            "       [14],\n",
            "       [17]]), array([[ 3],\n",
            "       [ 6],\n",
            "       [ 9],\n",
            "       [12],\n",
            "       [15],\n",
            "       [18]])]\n"
          ]
        }
      ]
    },
    {
      "cell_type": "markdown",
      "source": [
        "Use the hsplit() method to split the 2-D array into three 2-D arrays along rows."
      ],
      "metadata": {
        "id": "34cyDKvXQEQM"
      }
    },
    {
      "cell_type": "code",
      "source": [
        "import numpy as np\n",
        "arr = np.array([[1, 2, 3], [4, 5, 6], [7, 8, 9], [10, 11, 12], [13, 14, 15], [16, 17, 18]])\n",
        "newarr = np.hsplit(arr, 3)\n",
        "print(newarr)"
      ],
      "metadata": {
        "colab": {
          "base_uri": "https://localhost:8080/"
        },
        "id": "pn5mGIPlQGcd",
        "outputId": "fd4a0172-d4b1-4f90-b0d4-b3240f4ae8ad"
      },
      "execution_count": null,
      "outputs": [
        {
          "output_type": "stream",
          "name": "stdout",
          "text": [
            "[array([[ 1],\n",
            "       [ 4],\n",
            "       [ 7],\n",
            "       [10],\n",
            "       [13],\n",
            "       [16]]), array([[ 2],\n",
            "       [ 5],\n",
            "       [ 8],\n",
            "       [11],\n",
            "       [14],\n",
            "       [17]]), array([[ 3],\n",
            "       [ 6],\n",
            "       [ 9],\n",
            "       [12],\n",
            "       [15],\n",
            "       [18]])]\n"
          ]
        }
      ]
    },
    {
      "cell_type": "markdown",
      "source": [
        "***NumPy Searching Arrays***"
      ],
      "metadata": {
        "id": "C5u8ecc3QUDq"
      }
    },
    {
      "cell_type": "markdown",
      "source": [
        "Find the indexes where the value is 4:"
      ],
      "metadata": {
        "id": "6RxBj2dAQXSO"
      }
    },
    {
      "cell_type": "code",
      "source": [
        "import numpy as np\n",
        "arr = np.array([1, 2, 3, 4, 5, 4, 4])\n",
        "x = np.where(arr == 4)\n",
        "print(x)"
      ],
      "metadata": {
        "colab": {
          "base_uri": "https://localhost:8080/"
        },
        "id": "bHb5g7ZoQd4S",
        "outputId": "49fa72f9-04fa-4035-e7b2-e6d4271edf83"
      },
      "execution_count": null,
      "outputs": [
        {
          "output_type": "stream",
          "name": "stdout",
          "text": [
            "(array([3, 5, 6]),)\n"
          ]
        }
      ]
    },
    {
      "cell_type": "markdown",
      "source": [
        "Find the indexes where the values are even:"
      ],
      "metadata": {
        "id": "F-xRGCe0QpSb"
      }
    },
    {
      "cell_type": "code",
      "source": [
        "import numpy as np\n",
        "arr = np.array([1, 2, 3, 4, 5, 6, 7, 8])\n",
        "x = np.where(arr%2 == 0)\n",
        "print(x)"
      ],
      "metadata": {
        "colab": {
          "base_uri": "https://localhost:8080/"
        },
        "id": "ECataqCwQuph",
        "outputId": "fa0606da-4416-48b1-c39a-befd506eaf83"
      },
      "execution_count": null,
      "outputs": [
        {
          "output_type": "stream",
          "name": "stdout",
          "text": [
            "(array([1, 3, 5, 7]),)\n"
          ]
        }
      ]
    },
    {
      "cell_type": "markdown",
      "source": [
        "Find the indexes where the values are odd:"
      ],
      "metadata": {
        "id": "Ms_YqYPJQ4rv"
      }
    },
    {
      "cell_type": "code",
      "source": [
        "import numpy as np\n",
        "arr = np.array([1, 2, 3, 4, 5, 6, 7, 8])\n",
        "x = np.where(arr%2 == 1)\n",
        "print(x)"
      ],
      "metadata": {
        "colab": {
          "base_uri": "https://localhost:8080/"
        },
        "id": "X2A964wZQ6Rx",
        "outputId": "9e612c05-07ff-4f76-80f4-d021024e43c1"
      },
      "execution_count": null,
      "outputs": [
        {
          "output_type": "stream",
          "name": "stdout",
          "text": [
            "(array([0, 2, 4, 6]),)\n"
          ]
        }
      ]
    },
    {
      "cell_type": "markdown",
      "source": [
        "Find the indexes where the value 7 should be inserted:"
      ],
      "metadata": {
        "id": "x-qgpiH4RKO8"
      }
    },
    {
      "cell_type": "code",
      "source": [
        "import numpy as np\n",
        "arr = np.array([6, 7, 8, 9])\n",
        "x = np.searchsorted(arr, 7)\n",
        "print(x)"
      ],
      "metadata": {
        "colab": {
          "base_uri": "https://localhost:8080/"
        },
        "id": "KczeE-_eRL2B",
        "outputId": "c29d1183-8e33-4d4d-cf02-a744726a7e27"
      },
      "execution_count": null,
      "outputs": [
        {
          "output_type": "stream",
          "name": "stdout",
          "text": [
            "1\n"
          ]
        }
      ]
    },
    {
      "cell_type": "markdown",
      "source": [
        "***NumPy Sorting Arrays***"
      ],
      "metadata": {
        "id": "45wGYpI-RewU"
      }
    },
    {
      "cell_type": "markdown",
      "source": [
        "Sort the array:"
      ],
      "metadata": {
        "id": "p4FcsBCKRjSq"
      }
    },
    {
      "cell_type": "code",
      "source": [
        "import numpy as np\n",
        "arr = np.array([3, 2, 0, 1])\n",
        "print(np.sort(arr))"
      ],
      "metadata": {
        "colab": {
          "base_uri": "https://localhost:8080/"
        },
        "id": "vpp-iMpZRq5x",
        "outputId": "0ac2c272-f286-4b23-bbd5-3a7005e3d2b8"
      },
      "execution_count": null,
      "outputs": [
        {
          "output_type": "stream",
          "name": "stdout",
          "text": [
            "[0 1 2 3]\n"
          ]
        }
      ]
    },
    {
      "cell_type": "markdown",
      "source": [
        "Sort the array alphabetically:"
      ],
      "metadata": {
        "id": "E6eQInglR5oL"
      }
    },
    {
      "cell_type": "code",
      "source": [
        "import numpy as np\n",
        "arr = np.array(['banana', 'cherry', 'apple'])\n",
        "print(np.sort(arr))"
      ],
      "metadata": {
        "colab": {
          "base_uri": "https://localhost:8080/"
        },
        "id": "DkOUyPCZR7cL",
        "outputId": "677d47a1-015e-4fe7-db23-0c68325ceeee"
      },
      "execution_count": null,
      "outputs": [
        {
          "output_type": "stream",
          "name": "stdout",
          "text": [
            "['apple' 'banana' 'cherry']\n"
          ]
        }
      ]
    },
    {
      "cell_type": "markdown",
      "source": [
        "Sort a boolean array:"
      ],
      "metadata": {
        "id": "pDrHpXsQST5H"
      }
    },
    {
      "cell_type": "code",
      "source": [
        "import numpy as np\n",
        "arr = np.array([True, False, True])\n",
        "print(np.sort(arr))"
      ],
      "metadata": {
        "colab": {
          "base_uri": "https://localhost:8080/"
        },
        "id": "lGAg7lvLSV9V",
        "outputId": "41db84ae-38a3-40cf-a172-2bba4e5089c7"
      },
      "execution_count": null,
      "outputs": [
        {
          "output_type": "stream",
          "name": "stdout",
          "text": [
            "[False  True  True]\n"
          ]
        }
      ]
    },
    {
      "cell_type": "markdown",
      "source": [
        "**Sorting a 2-D Array**"
      ],
      "metadata": {
        "id": "uqQiLiRhSrDK"
      }
    },
    {
      "cell_type": "markdown",
      "source": [
        "Sort a 2-D array:"
      ],
      "metadata": {
        "id": "BNck50cRStzq"
      }
    },
    {
      "cell_type": "code",
      "source": [
        "import numpy as np\n",
        "arr = np.array([[3, 2, 4], [5, 0, 1]])\n",
        "print(np.sort(arr))"
      ],
      "metadata": {
        "colab": {
          "base_uri": "https://localhost:8080/"
        },
        "id": "8T_LOq7yS7Es",
        "outputId": "1ef3ddb3-3282-4977-86b1-3ae5a94532e1"
      },
      "execution_count": null,
      "outputs": [
        {
          "output_type": "stream",
          "name": "stdout",
          "text": [
            "[[2 3 4]\n",
            " [0 1 5]]\n"
          ]
        }
      ]
    },
    {
      "cell_type": "markdown",
      "source": [
        "***NumPy Filter Array***"
      ],
      "metadata": {
        "id": "B6D9VgmcTWk5"
      }
    },
    {
      "cell_type": "markdown",
      "source": [
        "reate an array from the elements on index 0 and 2:"
      ],
      "metadata": {
        "id": "WMOPqiRgTf31"
      }
    },
    {
      "cell_type": "code",
      "source": [
        "import numpy as np\n",
        "arr = np.array([41, 42, 43, 44])\n",
        "x = [True, False, True, False]\n",
        "newarr = arr[x]\n",
        "print(newarr)"
      ],
      "metadata": {
        "colab": {
          "base_uri": "https://localhost:8080/"
        },
        "id": "lzMosCiMThry",
        "outputId": "cd1ffe54-feb8-40fd-c129-93b54efb4ddd"
      },
      "execution_count": null,
      "outputs": [
        {
          "output_type": "stream",
          "name": "stdout",
          "text": [
            "[41 43]\n"
          ]
        }
      ]
    },
    {
      "cell_type": "markdown",
      "source": [
        "Create a filter array that will return only values higher than 42:"
      ],
      "metadata": {
        "id": "_gdrgGYNTutX"
      }
    },
    {
      "cell_type": "code",
      "source": [
        "import numpy as np\n",
        "arr = np.array([41, 42, 43, 44])\n",
        "filter_arr = []\n",
        "for element in arr:\n",
        "  if element > 42:\n",
        "    filter_arr.append(True)\n",
        "  else:\n",
        "    filter_arr.append(False)\n",
        "\n",
        "newarr = arr[filter_arr]\n",
        "\n",
        "print(filter_arr)\n",
        "print(newarr)"
      ],
      "metadata": {
        "colab": {
          "base_uri": "https://localhost:8080/"
        },
        "id": "wY_jHeQTTxuz",
        "outputId": "619f4662-3458-4aca-e85d-6993282961a1"
      },
      "execution_count": null,
      "outputs": [
        {
          "output_type": "stream",
          "name": "stdout",
          "text": [
            "[False, False, True, True]\n",
            "[43 44]\n"
          ]
        }
      ]
    },
    {
      "cell_type": "markdown",
      "source": [
        "Create a filter array that will return only even elements from the original array:"
      ],
      "metadata": {
        "id": "gARw3gEPUGMn"
      }
    },
    {
      "cell_type": "code",
      "source": [
        "import numpy as np\n",
        "arr = np.array([1, 2, 3, 4, 5, 6, 7])\n",
        "filter_arr = arr % 2 == 0\n",
        "newarr = arr[filter_arr]\n",
        "print(filter_arr)\n",
        "print(newarr)"
      ],
      "metadata": {
        "colab": {
          "base_uri": "https://localhost:8080/"
        },
        "id": "GPTLpU7FUOeP",
        "outputId": "aa522ae0-4581-4bea-bb3c-11fce628f7df"
      },
      "execution_count": null,
      "outputs": [
        {
          "output_type": "stream",
          "name": "stdout",
          "text": [
            "[False  True False  True False  True False]\n",
            "[2 4 6]\n"
          ]
        }
      ]
    }
  ]
}