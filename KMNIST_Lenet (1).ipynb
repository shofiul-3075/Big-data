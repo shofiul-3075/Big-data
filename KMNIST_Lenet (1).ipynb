{
  "cells": [
    {
      "cell_type": "code",
      "execution_count": 1,
      "metadata": {
        "id": "MzC1b0LRTMHY"
      },
      "outputs": [],
      "source": [
        "import torch\n",
        "import torch.nn as nn\n",
        "import torchvision\n",
        "import torchvision.transforms as transforms\n",
        "from sklearn.metrics import confusion_matrix,classification_report,accuracy_score, precision_score, recall_score, f1_score, precision_recall_curve, average_precision_score\n",
        "import numpy as np\n",
        "import matplotlib.pyplot as plt\n",
        "import seaborn as sns\n"
      ]
    },
    {
      "cell_type": "code",
      "execution_count": 2,
      "metadata": {
        "id": "28tOMnCIgBFi"
      },
      "outputs": [],
      "source": [
        "device = torch.device('cuda' if torch.cuda.is_available() else 'cpu')"
      ]
    },
    {
      "cell_type": "code",
      "execution_count": 12,
      "metadata": {
        "id": "Dhapto5EgYey"
      },
      "outputs": [],
      "source": [
        "#Hyper parameter\n",
        "batch_size = 64\n",
        "num_classes = 10\n",
        "learning_rate = 0.001\n",
        "num_epochs = 2"
      ]
    },
    {
      "cell_type": "markdown",
      "metadata": {
        "id": "qPwdFB1Lg5Ui"
      },
      "source": [
        "**Load the KMNIST Data**"
      ]
    },
    {
      "cell_type": "code",
      "execution_count": 13,
      "metadata": {
        "id": "LH41LQKMggXi"
      },
      "outputs": [],
      "source": [
        "transform = transforms.Compose([transforms.Resize((32,32)),transforms.ToTensor()])"
      ]
    },
    {
      "cell_type": "markdown",
      "metadata": {
        "id": "6jGOaifOJFH2"
      },
      "source": []
    },
    {
      "cell_type": "code",
      "execution_count": 15,
      "metadata": {
        "id": "LylXr1PFgZKb"
      },
      "outputs": [],
      "source": [
        "train_dataset = torchvision.datasets.KMNIST(root = './data',\n",
        "                                           train = True,\n",
        "                                           transform = transform,\n",
        "                                           download = True)\n",
        "\n"
      ]
    },
    {
      "cell_type": "code",
      "execution_count": 16,
      "metadata": {
        "id": "p1ZPJrSpgpVr"
      },
      "outputs": [],
      "source": [
        "test_dataset = torchvision.datasets.KMNIST(root = './data',\n",
        "                                          train = False,\n",
        "                                          transform = transform,\n",
        "                                          download=True)"
      ]
    },
    {
      "cell_type": "code",
      "execution_count": 17,
      "metadata": {
        "id": "iyI0ew58gz0C"
      },
      "outputs": [],
      "source": [
        "train_loader = torch.utils.data.DataLoader(dataset = train_dataset,\n",
        "                                           batch_size = batch_size,\n",
        "                                           shuffle = True)\n",
        "\n",
        "\n",
        "test_loader = torch.utils.data.DataLoader(dataset = test_dataset,\n",
        "                                           batch_size = batch_size,\n",
        "                                           shuffle = True)"
      ]
    },
    {
      "cell_type": "code",
      "execution_count": 18,
      "metadata": {
        "colab": {
          "base_uri": "https://localhost:8080/"
        },
        "id": "0Mx27D_yiOwS",
        "outputId": "7d3b2bdd-f021-4ed2-f092-22b1c5b26989"
      },
      "outputs": [
        {
          "output_type": "stream",
          "name": "stdout",
          "text": [
            "torch.Size([64, 1, 32, 32])\n"
          ]
        }
      ],
      "source": [
        "for X, y in train_loader:\n",
        "  print(X.shape)\n",
        "  break"
      ]
    },
    {
      "cell_type": "markdown",
      "metadata": {
        "id": "CYXZoAknfrbD"
      },
      "source": [
        "**LeNet-5 Model**"
      ]
    },
    {
      "cell_type": "code",
      "execution_count": 53,
      "metadata": {
        "id": "QUNnyl1PXflL"
      },
      "outputs": [],
      "source": [
        "\n",
        "class LeNet(nn.Module):\n",
        "    def __init__(self):\n",
        "        super(LeNet, self).__init__()\n",
        "        self.conv_layers= nn.Sequential(\n",
        "            nn.Conv2d(3,64,3), # 1st layer\n",
        "            nn.ReLU(),\n",
        "            nn.AvgPool2d(2,2),\n",
        "\n",
        "            nn.Conv2d(64,128,3),# 2nd layer\n",
        "            nn.ReLU(),\n",
        "            nn.AvgPool2d(2,2),\n",
        "\n",
        "            nn.Conv2d(128,256,3),  # 3rd layer\n",
        "            nn.ReLU(),\n",
        "            nn.AvgPool2d(2,2),\n",
        "\n",
        "            nn.Conv2d(256,512,3), #4th layer\n",
        "            nn.ReLU(),\n",
        "            nn.AvgPool2d(2,2),\n",
        "\n",
        "            nn.Conv2d(512,512,3), # 5th layer\n",
        "            nn.ReLU(),\n",
        "            nn.AvgPool2d(2,2)\n",
        "\n",
        "\n",
        "        )\n",
        "\n",
        "\n",
        "        self.fc_layers= nn.Sequential(\n",
        "            nn.Linear(512*4*4, 4096), # 1st layer\n",
        "            nn.LeakyReLU(),\n",
        "            nn.Linear(4096,2048), # 2nd layer\n",
        "            nn.ReLU(),\n",
        "            nn.Linear(2048,1024), #3rd layer\n",
        "            nn.ReLU(),\n",
        "            nn.Linear(1024,10),  #4th layer\n",
        "            nn.ReLU(),\n",
        "            nn.Linear(84,num_classes),\n",
        "\n",
        "\n",
        "        )\n",
        "\n",
        "\n",
        "\n",
        "\n",
        "    def forward(self, x):\n",
        "        x= self.conv_layers(x)\n",
        "        x= x.reshape(x.shape[0], -1)\n",
        "        x= self.fc_layers(x)\n",
        "        return x"
      ]
    },
    {
      "cell_type": "code",
      "execution_count": 39,
      "metadata": {
        "id": "iSXWctyWaIqb",
        "colab": {
          "base_uri": "https://localhost:8080/"
        },
        "outputId": "91623148-1d79-4a57-aba9-36e9aa176323"
      },
      "outputs": [
        {
          "output_type": "execute_result",
          "data": {
            "text/plain": [
              "LeNet(\n",
              "  (conv_layers): Sequential(\n",
              "    (0): Conv2d(1, 6, kernel_size=(5, 5), stride=(1, 1))\n",
              "    (1): ReLU()\n",
              "    (2): AvgPool2d(kernel_size=2, stride=2, padding=0)\n",
              "    (3): Conv2d(6, 16, kernel_size=(5, 5), stride=(1, 1))\n",
              "    (4): ReLU()\n",
              "    (5): AvgPool2d(kernel_size=2, stride=2, padding=0)\n",
              "  )\n",
              "  (fc_layers): Sequential(\n",
              "    (0): Linear(in_features=400, out_features=120, bias=True)\n",
              "    (1): LeakyReLU(negative_slope=0.01)\n",
              "    (2): Linear(in_features=120, out_features=84, bias=True)\n",
              "    (3): ReLU()\n",
              "    (4): Linear(in_features=84, out_features=10, bias=True)\n",
              "  )\n",
              ")"
            ]
          },
          "metadata": {},
          "execution_count": 39
        }
      ],
      "source": [
        "model = LeNet()\n",
        "model.to(device)"
      ]
    },
    {
      "cell_type": "markdown",
      "metadata": {
        "id": "l8Cc9ucjj6Ib"
      },
      "source": [
        "**Loss and optimizer**"
      ]
    },
    {
      "cell_type": "code",
      "execution_count": 40,
      "metadata": {
        "id": "mk8FlhAmgUEz"
      },
      "outputs": [],
      "source": [
        "loss_fn = nn.CrossEntropyLoss() #mulitclass\n",
        "optimizer = torch.optim.Adam(model.parameters(), lr=learning_rate)"
      ]
    },
    {
      "cell_type": "markdown",
      "metadata": {
        "id": "P8FyWqHGjtB0"
      },
      "source": [
        "**Train the model**"
      ]
    },
    {
      "cell_type": "code",
      "execution_count": 41,
      "metadata": {
        "colab": {
          "base_uri": "https://localhost:8080/"
        },
        "id": "tqKCw5pvdy8y",
        "outputId": "1a21da35-0fe7-40e1-a213-78f5f1242b21"
      },
      "outputs": [
        {
          "output_type": "stream",
          "name": "stdout",
          "text": [
            "Epoch [1/2], Step [400/938], Loss: 0.5011\n",
            "Epoch [1/2], Step [800/938], Loss: 0.3302\n",
            "Epoch [2/2], Step [400/938], Loss: 0.3245\n",
            "Epoch [2/2], Step [800/938], Loss: 0.1589\n"
          ]
        }
      ],
      "source": [
        "total_step = len(train_loader)\n",
        "for epoch in range(num_epochs):\n",
        "    for i, (images, labels) in enumerate(train_loader):\n",
        "\n",
        "        outputs = model(images)\n",
        "        loss = loss_fn(outputs, labels)\n",
        "\n",
        "        optimizer.zero_grad()\n",
        "        loss.backward()\n",
        "        optimizer.step()\n",
        "\n",
        "        if (i+1) % 400 == 0:\n",
        "            print ('Epoch [{}/{}], Step [{}/{}], Loss: {:.4f}'\n",
        "        \t\t           .format(epoch+1, num_epochs, i+1, total_step, loss.item()))"
      ]
    },
    {
      "cell_type": "markdown",
      "metadata": {
        "id": "WBzd0IgXkAjL"
      },
      "source": [
        "**Accuracy**"
      ]
    },
    {
      "cell_type": "code",
      "execution_count": 42,
      "metadata": {
        "colab": {
          "base_uri": "https://localhost:8080/"
        },
        "id": "dZqp4Em6f706",
        "outputId": "4fff42e6-d921-4641-e529-93813a161cc5"
      },
      "outputs": [
        {
          "output_type": "stream",
          "name": "stdout",
          "text": [
            "Accuracy of the network on the 10000 test images: 87.53 %\n",
            "Top-1 Error: 12.469999999999999 %\n"
          ]
        }
      ],
      "source": [
        "true_labels = [] #for confusion matrix\n",
        "predicted_labels = [] #for confusion matrix\n",
        "\n",
        "with torch.no_grad():\n",
        "    correct = 0\n",
        "    total = 0\n",
        "    for images, labels in test_loader:\n",
        "        images = images.to(device)\n",
        "        labels = labels.to(device)\n",
        "\n",
        "        outputs = model(images)\n",
        "        _, predicted = torch.max(outputs, 1)\n",
        "\n",
        "        true_labels.extend(labels.cpu().numpy())\n",
        "        predicted_labels.extend(predicted.cpu().numpy())\n",
        "\n",
        "        total += labels.size(0)\n",
        "        correct += (predicted == labels).sum().item()\n",
        "\n",
        "    accuracy= 100 * correct / total\n",
        "    print('Accuracy of the network on the 10000 test images: {} %'.format(accuracy))\n",
        "    top1_error = 100 - accuracy\n",
        "    print('Top-1 Error: {} %'.format(top1_error))\n",
        "\n"
      ]
    },
    {
      "cell_type": "markdown",
      "metadata": {
        "id": "umoAB9--XIS1"
      },
      "source": [
        "**Confusion matrix**"
      ]
    },
    {
      "cell_type": "code",
      "execution_count": 43,
      "metadata": {
        "colab": {
          "base_uri": "https://localhost:8080/",
          "height": 664
        },
        "id": "_OgXlkJ3WPXM",
        "outputId": "fe1420a3-695f-4bd9-d079-16a5892b43c7"
      },
      "outputs": [
        {
          "output_type": "display_data",
          "data": {
            "text/plain": [
              "<Figure size 1000x1000 with 2 Axes>"
            ],
            "image/png": "[encoded data removed]"
          },
          "metadata": {}
        }
      ],
      "source": [
        "true_labels = np.array(true_labels)\n",
        "predicted_labels = np.array(predicted_labels)\n",
        "confusion = confusion_matrix(true_labels, predicted_labels)\n",
        "plt.figure(figsize=(num_classes, num_classes))\n",
        "sns.heatmap(confusion, annot=True, fmt='d', cmap='Blues', square=True, xticklabels=True, yticklabels=True)\n",
        "plt.xlabel('Predicted')\n",
        "plt.ylabel('True')\n",
        "plt.title('Confusion Matrix')\n",
        "plt.show()"
      ]
    },
    {
      "cell_type": "markdown",
      "metadata": {
        "id": "EBmpQU6MXPQ0"
      },
      "source": [
        "**Classification report**"
      ]
    },
    {
      "cell_type": "code",
      "execution_count": 44,
      "metadata": {
        "colab": {
          "base_uri": "https://localhost:8080/"
        },
        "id": "7roFH5B1jFBC",
        "outputId": "457b44b0-51dc-4907-e93e-081cb51e2663"
      },
      "outputs": [
        {
          "output_type": "stream",
          "name": "stdout",
          "text": [
            "\n",
            "              precision    recall  f1-score   support\n",
            "\n",
            "           0       0.91      0.89      0.90      1000\n",
            "           1       0.85      0.89      0.87      1000\n",
            "           2       0.80      0.84      0.82      1000\n",
            "           3       0.92      0.92      0.92      1000\n",
            "           4       0.83      0.86      0.85      1000\n",
            "           5       0.94      0.86      0.90      1000\n",
            "           6       0.82      0.92      0.87      1000\n",
            "           7       0.98      0.79      0.88      1000\n",
            "           8       0.81      0.93      0.86      1000\n",
            "           9       0.95      0.86      0.90      1000\n",
            "\n",
            "    accuracy                           0.88     10000\n",
            "   macro avg       0.88      0.88      0.88     10000\n",
            "weighted avg       0.88      0.88      0.88     10000\n",
            "\n"
          ]
        }
      ],
      "source": [
        "report = classification_report(true_labels, predicted_labels)\n",
        "print('\\n'+ report)"
      ]
    },
    {
      "cell_type": "code",
      "execution_count": 45,
      "metadata": {
        "colab": {
          "base_uri": "https://localhost:8080/"
        },
        "id": "-n8oZSbKYTOs",
        "outputId": "187ccc30-6d71-43a0-a725-137a2622ba8c"
      },
      "outputs": [
        {
          "output_type": "stream",
          "name": "stdout",
          "text": [
            "Class 0:\n",
            "Precision: 0.91\n",
            "Recall: 0.89\n",
            "F1-score: 0.90\n",
            "\n",
            "Class 1:\n",
            "Precision: 0.85\n",
            "Recall: 0.89\n",
            "F1-score: 0.87\n",
            "\n",
            "Class 2:\n",
            "Precision: 0.80\n",
            "Recall: 0.84\n",
            "F1-score: 0.82\n",
            "\n",
            "Class 3:\n",
            "Precision: 0.92\n",
            "Recall: 0.92\n",
            "F1-score: 0.92\n",
            "\n",
            "Class 4:\n",
            "Precision: 0.83\n",
            "Recall: 0.86\n",
            "F1-score: 0.85\n",
            "\n",
            "Class 5:\n",
            "Precision: 0.94\n",
            "Recall: 0.86\n",
            "F1-score: 0.90\n",
            "\n",
            "Class 6:\n",
            "Precision: 0.82\n",
            "Recall: 0.92\n",
            "F1-score: 0.87\n",
            "\n",
            "Class 7:\n",
            "Precision: 0.98\n",
            "Recall: 0.79\n",
            "F1-score: 0.88\n",
            "\n",
            "Class 8:\n",
            "Precision: 0.81\n",
            "Recall: 0.93\n",
            "F1-score: 0.86\n",
            "\n",
            "Class 9:\n",
            "Precision: 0.95\n",
            "Recall: 0.86\n",
            "F1-score: 0.90\n",
            "\n"
          ]
        }
      ],
      "source": [
        "# Calculate precision, recall, f1 score\n",
        "precision = precision_score(true_labels, predicted_labels, average=None)\n",
        "recall = recall_score(true_labels, predicted_labels, average=None)\n",
        "f1 = f1_score(true_labels, predicted_labels, average=None)\n",
        "\n",
        "\n",
        "for class_label in range(10):\n",
        "    print(f'Class {class_label}:')\n",
        "    print(f'Precision: {precision[class_label]:.2f}')\n",
        "    print(f'Recall: {recall[class_label]:.2f}')\n",
        "    print(f'F1-score: {f1[class_label]:.2f}')\n",
        "    print()\n"
      ]
    }
  ],
  "metadata": {
    "colab": {
      "provenance": []
    },
    "kernelspec": {
      "display_name": "Python 3 (ipykernel)",
      "language": "python",
      "name": "python3"
    },
    "language_info": {
      "codemirror_mode": {
        "name": "ipython",
        "version": 3
      },
      "file_extension": ".py",
      "mimetype": "text/x-python",
      "name": "python",
      "nbconvert_exporter": "python",
      "pygments_lexer": "ipython3",
      "version": "3.9.13"
    }
  },
  "nbformat": 4,
  "nbformat_minor": 0
}